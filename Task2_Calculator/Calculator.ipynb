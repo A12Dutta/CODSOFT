{
 "cells": [
  {
   "cell_type": "code",
   "execution_count": 2,
   "id": "3d0719d0-841a-47d7-ac6d-fb39a69f89f3",
   "metadata": {},
   "outputs": [
    {
     "name": "stdout",
     "output_type": "stream",
     "text": [
      "Welcome to the Simple Calculator!\n",
      "Available operations: +, -, *, /\n"
     ]
    },
    {
     "name": "stdin",
     "output_type": "stream",
     "text": [
      "Enter the first number:  45\n",
      "Enter the operation (+, -, *, /):  /\n",
      "Enter the second number:  0\n"
     ]
    },
    {
     "name": "stdout",
     "output_type": "stream",
     "text": [
      "Error: Division by zero is not allowed!\n"
     ]
    }
   ],
   "source": [
    "#Simple Calculator Program\n",
    "def calculator():\n",
    "    print(\"Welcome to the Simple Calculator!\")\n",
    "    print(\"Available operations: +, -, *, /\")\n",
    "    try:\n",
    "        #Get user input\n",
    "        num1 = float(input(\"Enter the first number: \"))\n",
    "        operation = input(\"Enter the operation (+, -, *, /): \")\n",
    "        num2 = float(input(\"Enter the second number: \"))\n",
    "        \n",
    "        #Perform calculation based on operation\n",
    "        if operation == '+':\n",
    "            result = num1 + num2\n",
    "        elif operation == '-':\n",
    "            result = num1 - num2\n",
    "        elif operation == '*':\n",
    "            result = num1 * num2\n",
    "        elif operation == '/':\n",
    "            if num2 == 0:\n",
    "                print(\"Error: Division by zero is not allowed!\")\n",
    "                return\n",
    "            result = num1 / num2\n",
    "        else:\n",
    "            print(\"Invalid operation! Please use one of: +, -, *, /\")\n",
    "            return\n",
    "        \n",
    "        #Display the result\n",
    "        print(f\"{num1} {operation} {num2} = {result}\")\n",
    "        \n",
    "    except ValueError:\n",
    "        print(\"Error: Please enter valid numbers!\")\n",
    "    except Exception as e:\n",
    "        print(f\"An error occurred: {e}\")\n",
    "#Run the calculator\n",
    "calculator()"
   ]
  },
  {
   "cell_type": "code",
   "execution_count": null,
   "id": "bee03ff6-6188-4ee6-ba9f-e4eac39cfcd8",
   "metadata": {},
   "outputs": [],
   "source": []
  }
 ],
 "metadata": {
  "kernelspec": {
   "display_name": "Python 3 (ipykernel)",
   "language": "python",
   "name": "python3"
  },
  "language_info": {
   "codemirror_mode": {
    "name": "ipython",
    "version": 3
   },
   "file_extension": ".py",
   "mimetype": "text/x-python",
   "name": "python",
   "nbconvert_exporter": "python",
   "pygments_lexer": "ipython3",
   "version": "3.11.5"
  }
 },
 "nbformat": 4,
 "nbformat_minor": 5
}
