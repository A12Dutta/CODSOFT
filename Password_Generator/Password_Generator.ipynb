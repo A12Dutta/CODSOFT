{
 "cells": [
  {
   "cell_type": "code",
   "execution_count": 1,
   "id": "b398de12-d8d8-4678-8b03-d22ae60b46f4",
   "metadata": {},
   "outputs": [],
   "source": [
    "import random\n",
    "import string"
   ]
  },
  {
   "cell_type": "code",
   "execution_count": 2,
   "id": "a8862062-c4fb-4629-ae76-0a58a72f4088",
   "metadata": {},
   "outputs": [],
   "source": [
    "#Define character sets\n",
    "lowercase = string.ascii_lowercase\n",
    "uppercase = string.ascii_uppercase\n",
    "digits = string.digits\n",
    "punctuation = string.punctuation\n",
    "\n",
    "all_characters = lowercase + uppercase + digits + punctuation"
   ]
  },
  {
   "cell_type": "code",
   "execution_count": 3,
   "id": "f6fc3a48-eef8-451b-8136-723f39311089",
   "metadata": {},
   "outputs": [],
   "source": [
    "def get_password_length():\n",
    "    while True:\n",
    "        try:\n",
    "            length = int(input(\"Enter the desired length of the password: \"))\n",
    "            if length < 4:\n",
    "                print(\"Password length should be at least 4 characters.\")\n",
    "            else:\n",
    "                return length\n",
    "        except ValueError:\n",
    "            print(\"Please enter a valid number.\")"
   ]
  },
  {
   "cell_type": "code",
   "execution_count": 4,
   "id": "4cbfbbba-54fc-498c-a543-9f4a8bdcabd2",
   "metadata": {},
   "outputs": [
    {
     "name": "stdin",
     "output_type": "stream",
     "text": [
      "Enter the desired length of the password:  8\n"
     ]
    },
    {
     "name": "stdout",
     "output_type": "stream",
     "text": [
      "Password length: 8\n"
     ]
    }
   ],
   "source": [
    "#Test the function\n",
    "length = get_password_length()\n",
    "print(f\"Password length: {length}\")"
   ]
  },
  {
   "cell_type": "code",
   "execution_count": 6,
   "id": "36968088-ee1a-458b-befb-041a9a7ae8da",
   "metadata": {},
   "outputs": [
    {
     "name": "stdin",
     "output_type": "stream",
     "text": [
      "Enter the desired length of the password:  2\n"
     ]
    },
    {
     "name": "stdout",
     "output_type": "stream",
     "text": [
      "Password length should be at least 4 characters.\n"
     ]
    },
    {
     "name": "stdin",
     "output_type": "stream",
     "text": [
      "Enter the desired length of the password:  6\n"
     ]
    },
    {
     "name": "stdout",
     "output_type": "stream",
     "text": [
      "Password length: 6\n"
     ]
    }
   ],
   "source": [
    "length = get_password_length()\n",
    "print(f\"Password length: {length}\")"
   ]
  },
  {
   "cell_type": "code",
   "execution_count": 7,
   "id": "170166d4-8e55-4d2f-877b-be30a549599b",
   "metadata": {},
   "outputs": [
    {
     "name": "stdin",
     "output_type": "stream",
     "text": [
      "Enter the desired length of the password:  kjhk\n"
     ]
    },
    {
     "name": "stdout",
     "output_type": "stream",
     "text": [
      "Please enter a valid number.\n"
     ]
    },
    {
     "name": "stdin",
     "output_type": "stream",
     "text": [
      "Enter the desired length of the password:  6\n"
     ]
    },
    {
     "name": "stdout",
     "output_type": "stream",
     "text": [
      "Password length: 6\n"
     ]
    }
   ],
   "source": [
    "length = get_password_length()\n",
    "print(f\"Password length: {length}\")"
   ]
  },
  {
   "cell_type": "code",
   "execution_count": 8,
   "id": "5ad66b37-f3b4-495c-aa3c-ef395714670c",
   "metadata": {},
   "outputs": [],
   "source": [
    "def generate_password(length):\n",
    "    #Ensure at least one character from each category\n",
    "    password = [\n",
    "        random.choice(lowercase),\n",
    "        random.choice(uppercase),\n",
    "        random.choice(digits),\n",
    "        random.choice(punctuation)\n",
    "    ]\n",
    "    \n",
    "   \n",
    "    for i in range(length - 4):\n",
    "        password.append(random.choice(all_characters))\n",
    "    \n",
    "    random.shuffle(password)\n",
    "    \n",
    "    return ''.join(password)"
   ]
  },
  {
   "cell_type": "code",
   "execution_count": 9,
   "id": "c2c806f8-6d70-4297-a9ca-5024ffcb49c8",
   "metadata": {},
   "outputs": [
    {
     "name": "stdout",
     "output_type": "stream",
     "text": [
      "Testing password generation:\n",
      "8-character password: ?e&6#Y,U\n",
      "12-character password: jFD4=b,%We/F\n",
      "16-character password: [Xq+G6-?b|r01eoT\n"
     ]
    }
   ],
   "source": [
    "#Test with different lengths\n",
    "print(\"Testing password generation:\")\n",
    "print(f\"8-character password: {generate_password(8)}\")\n",
    "print(f\"12-character password: {generate_password(12)}\")\n",
    "print(f\"16-character password: {generate_password(16)}\")"
   ]
  },
  {
   "cell_type": "code",
   "execution_count": 10,
   "id": "8c9a6675-c37a-4a7d-8d77-f2f204145ad8",
   "metadata": {},
   "outputs": [],
   "source": [
    "def main():\n",
    "    print(\"=== Password Generator ===\")\n",
    "    length = get_password_length()\n",
    "    password = generate_password(length)\n",
    "    print(f\"\\nGenerated Password: {password}\")"
   ]
  },
  {
   "cell_type": "code",
   "execution_count": 11,
   "id": "29b9cf51-ad19-4ffe-8241-4eab719d8fd2",
   "metadata": {},
   "outputs": [
    {
     "name": "stdout",
     "output_type": "stream",
     "text": [
      "=== Password Generator ===\n"
     ]
    },
    {
     "name": "stdin",
     "output_type": "stream",
     "text": [
      "Enter the desired length of the password:  8\n"
     ]
    },
    {
     "name": "stdout",
     "output_type": "stream",
     "text": [
      "\n",
      "Generated Password: ]S$enq%2\n"
     ]
    }
   ],
   "source": [
    "if __name__ == \"__main__\":\n",
    "    main()"
   ]
  },
  {
   "cell_type": "code",
   "execution_count": 12,
   "id": "aefc71ec-9e5a-43df-a85c-658913f547a5",
   "metadata": {},
   "outputs": [
    {
     "name": "stdout",
     "output_type": "stream",
     "text": [
      "=== Password Generator ===\n"
     ]
    },
    {
     "name": "stdin",
     "output_type": "stream",
     "text": [
      "Enter the desired length of the password:  25\n"
     ]
    },
    {
     "name": "stdout",
     "output_type": "stream",
     "text": [
      "\n",
      "Generated Password: @MH4lo#wH?.D?v}BR:3hs7a](\n"
     ]
    }
   ],
   "source": [
    "#Run the complete program\n",
    "if __name__ == \"__main__\":\n",
    "    main()"
   ]
  },
  {
   "cell_type": "code",
   "execution_count": null,
   "id": "17f07128-a813-44c1-9fd7-c8df322f77cf",
   "metadata": {},
   "outputs": [],
   "source": []
  }
 ],
 "metadata": {
  "kernelspec": {
   "display_name": "Python 3 (ipykernel)",
   "language": "python",
   "name": "python3"
  },
  "language_info": {
   "codemirror_mode": {
    "name": "ipython",
    "version": 3
   },
   "file_extension": ".py",
   "mimetype": "text/x-python",
   "name": "python",
   "nbconvert_exporter": "python",
   "pygments_lexer": "ipython3",
   "version": "3.11.5"
  }
 },
 "nbformat": 4,
 "nbformat_minor": 5
}
