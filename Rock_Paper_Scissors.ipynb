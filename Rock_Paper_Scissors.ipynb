{
 "cells": [
  {
   "cell_type": "code",
   "execution_count": 1,
   "id": "0e4d8d75-d5d6-4494-9089-b3ef4a3184eb",
   "metadata": {},
   "outputs": [],
   "source": [
    "import random"
   ]
  },
  {
   "cell_type": "code",
   "execution_count": 2,
   "id": "5a2da576-062e-4af8-a395-ad9795c93566",
   "metadata": {},
   "outputs": [],
   "source": [
    "class RockPaperScissors:\n",
    "    def __init__(self):\n",
    "        self.user_score = 0\n",
    "        self.computer_score = 0\n",
    "        self.choices = ['rock', 'paper', 'scissors']\n",
    "        self.winning_combinations = {\n",
    "            'rock': 'scissors',\n",
    "            'scissors': 'paper',\n",
    "            'paper': 'rock'\n",
    "        }\n",
    "    \n",
    "    def get_computer_choice(self):\n",
    "        return random.choice(self.choices)\n",
    "    \n",
    "    def determine_winner(self, user_choice, computer_choice):\n",
    "        if user_choice == computer_choice:\n",
    "            return 'tie'\n",
    "        elif self.winning_combinations[user_choice] == computer_choice:\n",
    "            return 'user'\n",
    "        else:\n",
    "            return 'computer'\n",
    "    \n",
    "    def update_score(self, winner):\n",
    "        if winner == 'user':\n",
    "            self.user_score += 1\n",
    "        elif winner == 'computer':\n",
    "            self.computer_score += 1\n",
    "    \n",
    "    def display_result(self, user_choice, computer_choice, winner):\n",
    "        print(f\"\\nYour choice: {user_choice}\")\n",
    "        print(f\"Computer's choice: {computer_choice}\")\n",
    "        \n",
    "        if winner == 'tie':\n",
    "            print(\"It's a tie!\")\n",
    "        elif winner == 'user':\n",
    "            print(\"You win!\")\n",
    "        else:\n",
    "            print(\"Computer wins!\")\n",
    "        \n",
    "        print(f\"Score - You: {self.user_score} | Computer: {self.computer_score}\")\n",
    "    \n",
    "    def play_round(self):\n",
    "        print(\"\\n\" + \"=\"*40)\n",
    "        print(\"Rock-Paper-Scissors Game\")\n",
    "        print(\"=\"*40)\n",
    "        \n",
    "        user_choice = input(\"Choose rock, paper, or scissors: \").lower().strip()\n",
    "        \n",
    "        while user_choice not in self.choices:\n",
    "            print(\"Invalid choice. Please try again.\")\n",
    "            user_choice = input(\"Choose rock, paper, or scissors: \").lower().strip()\n",
    "        \n",
    "        computer_choice = self.get_computer_choice()\n",
    "        \n",
    "        winner = self.determine_winner(user_choice, computer_choice)\n",
    "        \n",
    "        self.update_score(winner)\n",
    "        \n",
    "        self.display_result(user_choice, computer_choice, winner)\n",
    "    \n",
    "    def play_game(self):\n",
    "        print(\"Welcome to Rock-Paper-Scissors!\")\n",
    "        print(\"Instructions: Type 'rock', 'paper', or 'scissors' when prompted.\")\n",
    "        \n",
    "        while True:\n",
    "            self.play_round()\n",
    "            \n",
    "            play_again = input(\"\\nDo you want to play again? (yes/no): \").lower().strip()\n",
    "            if play_again not in ['yes', 'y']:\n",
    "                print(\"\\nThanks for playing!\")\n",
    "                print(f\"Final Score - You: {self.user_score} | Computer: {self.computer_score}\")\n",
    "                break"
   ]
  },
  {
   "cell_type": "code",
   "execution_count": 3,
   "id": "689e9947-ac8f-4272-8c93-bfe802a1d707",
   "metadata": {},
   "outputs": [
    {
     "name": "stdout",
     "output_type": "stream",
     "text": [
      "Welcome to Rock-Paper-Scissors!\n",
      "Instructions: Type 'rock', 'paper', or 'scissors' when prompted.\n",
      "\n",
      "========================================\n",
      "Rock-Paper-Scissors Game\n",
      "========================================\n"
     ]
    },
    {
     "name": "stdin",
     "output_type": "stream",
     "text": [
      "Choose rock, paper, or scissors:  rock\n"
     ]
    },
    {
     "name": "stdout",
     "output_type": "stream",
     "text": [
      "\n",
      "Your choice: rock\n",
      "Computer's choice: scissors\n",
      "You win!\n",
      "Score - You: 1 | Computer: 0\n"
     ]
    },
    {
     "name": "stdin",
     "output_type": "stream",
     "text": [
      "\n",
      "Do you want to play again? (yes/no):  no\n"
     ]
    },
    {
     "name": "stdout",
     "output_type": "stream",
     "text": [
      "\n",
      "Thanks for playing!\n",
      "Final Score - You: 1 | Computer: 0\n"
     ]
    }
   ],
   "source": [
    "game = RockPaperScissors()\n",
    "game.play_game()"
   ]
  },
  {
   "cell_type": "code",
   "execution_count": 4,
   "id": "3fd4c46a-c900-4e82-9347-188daf41f7a3",
   "metadata": {},
   "outputs": [
    {
     "name": "stdout",
     "output_type": "stream",
     "text": [
      "Welcome to Rock-Paper-Scissors!\n",
      "Instructions: Type 'rock', 'paper', or 'scissors' when prompted.\n",
      "\n",
      "========================================\n",
      "Rock-Paper-Scissors Game\n",
      "========================================\n"
     ]
    },
    {
     "name": "stdin",
     "output_type": "stream",
     "text": [
      "Choose rock, paper, or scissors:  scissors\n"
     ]
    },
    {
     "name": "stdout",
     "output_type": "stream",
     "text": [
      "\n",
      "Your choice: scissors\n",
      "Computer's choice: paper\n",
      "You win!\n",
      "Score - You: 1 | Computer: 0\n"
     ]
    },
    {
     "name": "stdin",
     "output_type": "stream",
     "text": [
      "\n",
      "Do you want to play again? (yes/no):  no\n"
     ]
    },
    {
     "name": "stdout",
     "output_type": "stream",
     "text": [
      "\n",
      "Thanks for playing!\n",
      "Final Score - You: 1 | Computer: 0\n"
     ]
    }
   ],
   "source": [
    "game = RockPaperScissors()\n",
    "game.play_game()"
   ]
  },
  {
   "cell_type": "code",
   "execution_count": null,
   "id": "25bea957-f6dd-4b8c-80c6-a7e0e268bd86",
   "metadata": {},
   "outputs": [],
   "source": []
  }
 ],
 "metadata": {
  "kernelspec": {
   "display_name": "Python 3 (ipykernel)",
   "language": "python",
   "name": "python3"
  },
  "language_info": {
   "codemirror_mode": {
    "name": "ipython",
    "version": 3
   },
   "file_extension": ".py",
   "mimetype": "text/x-python",
   "name": "python",
   "nbconvert_exporter": "python",
   "pygments_lexer": "ipython3",
   "version": "3.11.5"
  }
 },
 "nbformat": 4,
 "nbformat_minor": 5
}
