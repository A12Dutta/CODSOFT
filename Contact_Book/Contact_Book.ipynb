{
 "cells": [
  {
   "cell_type": "code",
   "execution_count": 1,
   "id": "1eb93d75-a6be-4821-bdc7-9d6eb96e6eca",
   "metadata": {},
   "outputs": [
    {
     "name": "stdout",
     "output_type": "stream",
     "text": [
      "Loaded 0 contacts.\n"
     ]
    }
   ],
   "source": [
    "import json\n",
    "from pathlib import Path\n",
    "\n",
    "CONTACTS_FILE = Path(\"contacts.json\")\n",
    "\n",
    "def load_contacts():\n",
    "    if CONTACTS_FILE.exists():\n",
    "        with CONTACTS_FILE.open(\"r\", encoding=\"utf-8\") as f:\n",
    "            return json.load(f)\n",
    "    return []\n",
    "\n",
    "def save_contacts(contacts):\n",
    "    with CONTACTS_FILE.open(\"w\", encoding=\"utf-8\") as f:\n",
    "        json.dump(contacts, f, indent=2, ensure_ascii=False)\n",
    "\n",
    "contacts = load_contacts()\n",
    "print(f\"Loaded {len(contacts)} contacts.\")"
   ]
  },
  {
   "cell_type": "code",
   "execution_count": 2,
   "id": "6993e71f-a115-4e05-853d-ac855995f932",
   "metadata": {},
   "outputs": [],
   "source": [
    "def format_contact(c):\n",
    "    return f\"{c['name']} | {c['phone']} | {c.get('email','')} | {c.get('address','')}\""
   ]
  },
  {
   "cell_type": "code",
   "execution_count": 3,
   "id": "ba7067ce-8e79-4c28-9b9b-ecf8b97423b8",
   "metadata": {},
   "outputs": [],
   "source": [
    "def next_id(contacts):\n",
    "    if not contacts:\n",
    "        return 1\n",
    "    return max(c.get('id', 0) for c in contacts) + 1\n",
    "\n",
    "def add_contact(name, phone, email='', address=''):\n",
    "    global contacts\n",
    "    contact = {\n",
    "        \"id\": next_id(contacts),\n",
    "        \"name\": name.strip(),\n",
    "        \"phone\": phone.strip(),\n",
    "        \"email\": email.strip(),\n",
    "        \"address\": address.strip()\n",
    "    }\n",
    "    contacts.append(contact)\n",
    "    save_contacts(contacts)\n",
    "    return contact\n",
    "\n",
    "def view_contacts():\n",
    "    if not contacts:\n",
    "        print(\"No contacts found.\")\n",
    "        return []\n",
    "    for c in contacts:\n",
    "        print(f\"{c['id']}. {c['name']} — {c['phone']}\")\n",
    "    print(f\"\\nTotal: {len(contacts)} contact(s).\")\n",
    "    return contacts\n",
    "\n",
    "def search_contacts(query):\n",
    "    q = str(query).lower().strip()\n",
    "    found = [c for c in contacts if q in c['name'].lower() or q in c['phone']]\n",
    "    if not found:\n",
    "        print(\"No matches.\")\n",
    "    else:\n",
    "        print(f\"Found {len(found)} contact(s):\")\n",
    "        for c in found:\n",
    "            print(f\"{c['id']}. {format_contact(c)}\")\n",
    "    return found\n",
    "\n",
    "def find_contact_by_id(cid):\n",
    "    for c in contacts:\n",
    "        if c['id'] == cid:\n",
    "            return c\n",
    "    return None\n",
    "\n",
    "def update_contact(cid, name=None, phone=None, email=None, address=None):\n",
    "    global contacts\n",
    "    c = find_contact_by_id(cid)\n",
    "    if not c:\n",
    "        print(\"Contact not found.\")\n",
    "        return None\n",
    "    if name is not None: c['name'] = name.strip()\n",
    "    if phone is not None: c['phone'] = phone.strip()\n",
    "    if email is not None: c['email'] = email.strip()\n",
    "    if address is not None: c['address'] = address.strip()\n",
    "    save_contacts(contacts)\n",
    "    return c\n",
    "\n",
    "def delete_contact(cid):\n",
    "    global contacts\n",
    "    c = find_contact_by_id(cid)\n",
    "    if not c:\n",
    "        print(\"Contact not found.\")\n",
    "        return None\n",
    "    contacts = [x for x in contacts if x['id'] != cid]\n",
    "    save_contacts(contacts)\n",
    "    return c"
   ]
  },
  {
   "cell_type": "code",
   "execution_count": 4,
   "id": "fc4468dc-6588-4f06-9434-a19b76cb7e4c",
   "metadata": {},
   "outputs": [
    {
     "name": "stdout",
     "output_type": "stream",
     "text": [
      "Added: Alice Smith | 9876543210 | alice@example.com | 123 Main St, City\n"
     ]
    }
   ],
   "source": [
    "new = add_contact(\"Alice Smith\", \"9876543210\", \"alice@example.com\", \"123 Main St, City\")\n",
    "print(\"Added:\", format_contact(new))"
   ]
  },
  {
   "cell_type": "code",
   "execution_count": 5,
   "id": "8257dc1d-9e21-47c6-8105-93feb1e82366",
   "metadata": {},
   "outputs": [
    {
     "name": "stdout",
     "output_type": "stream",
     "text": [
      "1. Alice Smith — 9876543210\n",
      "\n",
      "Total: 1 contact(s).\n"
     ]
    },
    {
     "data": {
      "text/plain": [
       "[{'id': 1,\n",
       "  'name': 'Alice Smith',\n",
       "  'phone': '9876543210',\n",
       "  'email': 'alice@example.com',\n",
       "  'address': '123 Main St, City'}]"
      ]
     },
     "execution_count": 5,
     "metadata": {},
     "output_type": "execute_result"
    }
   ],
   "source": [
    "view_contacts()"
   ]
  },
  {
   "cell_type": "code",
   "execution_count": 6,
   "id": "00faccaa-a47a-4d78-a94c-8d9a53c08194",
   "metadata": {},
   "outputs": [
    {
     "name": "stdout",
     "output_type": "stream",
     "text": [
      "Found 1 contact(s):\n",
      "1. Alice Smith | 9876543210 | alice@example.com | 123 Main St, City\n"
     ]
    },
    {
     "data": {
      "text/plain": [
       "[{'id': 1,\n",
       "  'name': 'Alice Smith',\n",
       "  'phone': '9876543210',\n",
       "  'email': 'alice@example.com',\n",
       "  'address': '123 Main St, City'}]"
      ]
     },
     "execution_count": 6,
     "metadata": {},
     "output_type": "execute_result"
    }
   ],
   "source": [
    "search_contacts(\"alice\")"
   ]
  },
  {
   "cell_type": "code",
   "execution_count": 7,
   "id": "02bd808e-d168-47cb-b22e-ba788a85e10f",
   "metadata": {},
   "outputs": [
    {
     "name": "stdout",
     "output_type": "stream",
     "text": [
      "Found 1 contact(s):\n",
      "1. Alice Smith | 9876543210 | alice@example.com | 123 Main St, City\n"
     ]
    },
    {
     "data": {
      "text/plain": [
       "[{'id': 1,\n",
       "  'name': 'Alice Smith',\n",
       "  'phone': '9876543210',\n",
       "  'email': 'alice@example.com',\n",
       "  'address': '123 Main St, City'}]"
      ]
     },
     "execution_count": 7,
     "metadata": {},
     "output_type": "execute_result"
    }
   ],
   "source": [
    "search_contacts(\"9876\")"
   ]
  },
  {
   "cell_type": "code",
   "execution_count": 8,
   "id": "56da4442-d741-4afd-b103-fc3591af5f02",
   "metadata": {},
   "outputs": [
    {
     "name": "stdout",
     "output_type": "stream",
     "text": [
      "Updated: Alice Smith | 9999999999 | alice@example.com | 456 New Ave, City\n"
     ]
    }
   ],
   "source": [
    "updated = update_contact(1, phone=\"9999999999\", address=\"456 New Ave, City\")\n",
    "print(\"Updated:\", format_contact(updated) if updated else \"Update failed\")"
   ]
  },
  {
   "cell_type": "code",
   "execution_count": 9,
   "id": "b3f5539e-eb2b-43c8-81ae-fff3494b2e2c",
   "metadata": {},
   "outputs": [
    {
     "name": "stdout",
     "output_type": "stream",
     "text": [
      "1. Alice Smith — 9999999999\n",
      "\n",
      "Total: 1 contact(s).\n"
     ]
    },
    {
     "data": {
      "text/plain": [
       "[{'id': 1,\n",
       "  'name': 'Alice Smith',\n",
       "  'phone': '9999999999',\n",
       "  'email': 'alice@example.com',\n",
       "  'address': '456 New Ave, City'}]"
      ]
     },
     "execution_count": 9,
     "metadata": {},
     "output_type": "execute_result"
    }
   ],
   "source": [
    "view_contacts()"
   ]
  },
  {
   "cell_type": "code",
   "execution_count": 10,
   "id": "82e14088-203b-48aa-8019-da6e3ec7915a",
   "metadata": {},
   "outputs": [
    {
     "name": "stdout",
     "output_type": "stream",
     "text": [
      "Deleted: Alice Smith | 9999999999 | alice@example.com | 456 New Ave, City\n"
     ]
    }
   ],
   "source": [
    "deleted = delete_contact(1)\n",
    "print(\"Deleted:\", format_contact(deleted) if deleted else \"No contact deleted\")"
   ]
  },
  {
   "cell_type": "code",
   "execution_count": 11,
   "id": "27403f2c-4e94-443e-8589-6f6a3cbd5375",
   "metadata": {},
   "outputs": [
    {
     "name": "stdout",
     "output_type": "stream",
     "text": [
      "No contacts found.\n"
     ]
    },
    {
     "data": {
      "text/plain": [
       "[]"
      ]
     },
     "execution_count": 11,
     "metadata": {},
     "output_type": "execute_result"
    }
   ],
   "source": [
    "view_contacts()"
   ]
  },
  {
   "cell_type": "code",
   "execution_count": 12,
   "id": "e82ebadc-c698-4023-92b8-4111829e8142",
   "metadata": {},
   "outputs": [],
   "source": [
    "def menu():\n",
    "    while True:\n",
    "        print(\"\\nContact Book — choose:\")\n",
    "        print(\"1. Add contact\")\n",
    "        print(\"2. View all contacts\")\n",
    "        print(\"3. Search contact\")\n",
    "        print(\"4. Update contact\")\n",
    "        print(\"5. Delete contact\")\n",
    "        print(\"6. Exit\")\n",
    "        choice = input(\"Enter option (1-6): \").strip()\n",
    "        if choice == '1':\n",
    "            name = input(\"Name: \")\n",
    "            phone = input(\"Phone: \")\n",
    "            email = input(\"Email (optional): \")\n",
    "            address = input(\"Address (optional): \")\n",
    "            c = add_contact(name, phone, email, address)\n",
    "            print(\"Added:\", format_contact(c))\n",
    "        elif choice == '2':\n",
    "            view_contacts()\n",
    "        elif choice == '3':\n",
    "            q = input(\"Search term (name or phone): \")\n",
    "            search_contacts(q)\n",
    "        elif choice == '4':\n",
    "            cid = int(input(\"Contact id to update: \"))\n",
    "            print(\"Leave field blank to keep current value.\")\n",
    "            name = input(\"New name: \")\n",
    "            phone = input(\"New phone: \")\n",
    "            email = input(\"New email: \")\n",
    "            address = input(\"New address: \")\n",
    "            kwargs = {k: (v if v != \"\" else None) for k,v in [(\"name\",name),(\"phone\",phone),(\"email\",email),(\"address\",address)]}\n",
    "            updated = update_contact(cid, **kwargs)\n",
    "            if updated:\n",
    "                print(\"Updated:\", format_contact(updated))\n",
    "        elif choice == '5':\n",
    "            cid = int(input(\"Contact id to delete: \"))\n",
    "            deleted = delete_contact(cid)\n",
    "            if deleted:\n",
    "                print(\"Deleted:\", format_contact(deleted))\n",
    "        elif choice == '6':\n",
    "            print(\"Exiting menu.\")\n",
    "            break\n",
    "        else:\n",
    "            print(\"Invalid option.\")"
   ]
  },
  {
   "cell_type": "code",
   "execution_count": null,
   "id": "048a02fa-5da8-4cf8-ba97-7d3d7c07168f",
   "metadata": {},
   "outputs": [
    {
     "name": "stdout",
     "output_type": "stream",
     "text": [
      "\n",
      "Contact Book — choose:\n",
      "1. Add contact\n",
      "2. View all contacts\n",
      "3. Search contact\n",
      "4. Update contact\n",
      "5. Delete contact\n",
      "6. Exit\n"
     ]
    },
    {
     "name": "stdin",
     "output_type": "stream",
     "text": [
      "Enter option (1-6):  1\n"
     ]
    }
   ],
   "source": [
    "menu()"
   ]
  },
  {
   "cell_type": "code",
   "execution_count": null,
   "id": "abf5a66a-98fd-4466-8370-db89da3c99ed",
   "metadata": {},
   "outputs": [],
   "source": []
  }
 ],
 "metadata": {
  "kernelspec": {
   "display_name": "Python 3 (ipykernel)",
   "language": "python",
   "name": "python3"
  },
  "language_info": {
   "codemirror_mode": {
    "name": "ipython",
    "version": 3
   },
   "file_extension": ".py",
   "mimetype": "text/x-python",
   "name": "python",
   "nbconvert_exporter": "python",
   "pygments_lexer": "ipython3",
   "version": "3.11.5"
  }
 },
 "nbformat": 4,
 "nbformat_minor": 5
}
